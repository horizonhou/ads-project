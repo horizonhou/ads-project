{
 "cells": [
  {
   "cell_type": "markdown",
   "id": "b65e6f4d",
   "metadata": {
    "colab_type": "text",
    "id": "view-in-github"
   },
   "source": [
    "<a href=\"https://colab.research.google.com/github/ORIE5355/project_competition_public/blob/main/run_gym_headtohead.ipynb\" target=\"_parent\"><img src=\"https://colab.research.google.com/assets/colab-badge.svg\" alt=\"Open In Colab\"/></a>"
   ]
  },
  {
   "cell_type": "code",
   "execution_count": 1,
   "id": "1bdb9ec3",
   "metadata": {
    "ExecuteTime": {
     "end_time": "2021-08-07T01:43:26.798549Z",
     "start_time": "2021-08-07T01:43:26.615639Z"
    },
    "id": "1e30a1e2"
   },
   "outputs": [],
   "source": [
    "import numpy as np \n",
    "import matplotlib.pyplot as plt\n",
    "import time\n",
    "from IPython import display"
   ]
  },
  {
   "cell_type": "code",
   "execution_count": null,
   "id": "aa467569",
   "metadata": {},
   "outputs": [],
   "source": []
  },
  {
   "cell_type": "code",
   "execution_count": null,
   "id": "5972027a",
   "metadata": {},
   "outputs": [],
   "source": []
  },
  {
   "cell_type": "code",
   "execution_count": 2,
   "id": "bcecd31f",
   "metadata": {},
   "outputs": [],
   "source": [
    "%load_ext autoreload\n",
    "%autoreload 2"
   ]
  },
  {
   "cell_type": "code",
   "execution_count": 3,
   "id": "ed412eda",
   "metadata": {
    "ExecuteTime": {
     "end_time": "2021-08-07T00:54:11.885238Z",
     "start_time": "2021-08-07T00:54:11.655533Z"
    },
    "id": "1491d1af"
   },
   "outputs": [],
   "source": [
    "import make_env"
   ]
  },
  {
   "cell_type": "code",
   "execution_count": 40,
   "id": "027ce821",
   "metadata": {},
   "outputs": [
    {
     "name": "stderr",
     "output_type": "stream",
     "text": [
      "[autoreload of  failed: Traceback (most recent call last):\n",
      "  File \"D:\\Anaconda3\\lib\\site-packages\\IPython\\extensions\\autoreload.py\", line 245, in check\n",
      "    superreload(m, reload, self.old_objects)\n",
      "  File \"D:\\Anaconda3\\lib\\site-packages\\IPython\\extensions\\autoreload.py\", line 368, in superreload\n",
      "    module = reload(module)\n",
      "  File \"D:\\Anaconda3\\lib\\imp.py\", line 315, in reload\n",
      "    return importlib.reload(module)\n",
      "  File \"D:\\Anaconda3\\lib\\importlib\\__init__.py\", line 168, in reload\n",
      "    raise ModuleNotFoundError(f\"spec not found for the module {name!r}\", name=name)\n",
      "ModuleNotFoundError: spec not found for the module ''\n",
      "]\n"
     ]
    }
   ],
   "source": [
    "project_part = 1\n",
    "agentnames = ['ThreeHonestMerchant','horizon']"
   ]
  },
  {
   "cell_type": "code",
   "execution_count": 41,
   "id": "2d83c589",
   "metadata": {
    "ExecuteTime": {
     "end_time": "2021-08-07T00:54:12.319787Z",
     "start_time": "2021-08-07T00:54:12.215172Z"
    },
    "id": "9d7889c4"
   },
   "outputs": [],
   "source": [
    "if project_part == 1:\n",
    "    env, agents = make_env.make_env_agents(agentnames = agentnames, project_part = project_part)\n",
    "    \n",
    "else:\n",
    "    env, agents = make_env.make_env_agents(agentnames = agentnames, project_part = project_part\n",
    "    , first_file = 'data/competitionsample_3', second_file='data/competitionsample_1')\n",
    "\n",
    "# you can replace the agentnames to match whatever agentfiles you create. \n",
    "# you can use the same agentnames for both agents"
   ]
  },
  {
   "cell_type": "code",
   "execution_count": 42,
   "id": "216d202e",
   "metadata": {
    "ExecuteTime": {
     "end_time": "2021-08-07T00:54:13.449610Z",
     "start_time": "2021-08-07T00:54:13.329182Z"
    },
    "id": "050da6eb"
   },
   "outputs": [],
   "source": [
    "T = 500"
   ]
  },
  {
   "cell_type": "code",
   "execution_count": 43,
   "id": "e44cc78d",
   "metadata": {},
   "outputs": [],
   "source": [
    "list_of_my_prices = []\n",
    "list_of_valuations = []"
   ]
  },
  {
   "cell_type": "code",
   "execution_count": 44,
   "id": "a9ec79a5",
   "metadata": {
    "ExecuteTime": {
     "end_time": "2021-08-07T00:54:31.959674Z",
     "start_time": "2021-08-07T00:54:31.682972Z"
    },
    "colab": {
     "base_uri": "https://localhost:8080/",
     "height": 332
    },
    "id": "fc21ca5a",
    "outputId": "5fbf1364-5a0b-47f2-a083-653b0a0c4a96"
   },
   "outputs": [
    {
     "data": {
      "image/png": "[encoded data removed]",
      "text/plain": [
       "<Figure size 432x288 with 1 Axes>"
      ]
     },
     "metadata": {},
     "output_type": "display_data"
    },
    {
     "name": "stdout",
     "output_type": "stream",
     "text": [
      "499\n",
      "customer covariate:  [7.8738110689040655]\n",
      "item bought: 0, agent bought from: 0, prices: [[6.38305015892965], [6.383050158929651]]\n",
      "current_profit per agent:  [1228.79801250838, 354.8022476467502]\n",
      "\n",
      "Cumulative buyer utility: 946.2036961117215\n"
     ]
    }
   ],
   "source": [
    "env.reset()\n",
    "customer_covariates, sale, profits = env.get_current_state_customer_to_send_agents()\n",
    "last_customer_covariates = customer_covariates\n",
    "\n",
    "fig, ax = plt.subplots(figsize=(20, 10))\n",
    "plt.title(T)\n",
    "for t in range(0, T):\n",
    "    actions = [agent.action((customer_covariates, sale, profits)) for agent in agents]\n",
    "    customer_covariates, sale, profits = env.step(actions)\n",
    "    newplot = env.render(True)\n",
    "    if newplot:\n",
    "      display.clear_output(wait=True)\n",
    "      display.display(plt.gcf())\n",
    "    print(t)\n",
    "    print('customer covariate: ', last_customer_covariates)\n",
    "    list_of_my_prices.append(sale[2][0])\n",
    "    list_of_valuations.append(last_customer_covariates)\n",
    "    print('item bought: {}, agent bought from: {}, prices: {}'.format(sale[0],sale[1],sale[2]))\n",
    "    print('current_profit per agent: ', profits,end='\\n\\n')\n",
    "    last_customer_covariates = customer_covariates\n",
    "plt.close()\n",
    "print(\"Cumulative buyer utility: {}\".format(env.cumulative_buyer_utility))"
   ]
  },
  {
   "cell_type": "code",
   "execution_count": 9,
   "id": "f44ea7ec",
   "metadata": {
    "scrolled": false
   },
   "outputs": [
    {
     "data": {
      "text/plain": [
       "[<matplotlib.lines.Line2D at 0x1de1d9e6588>]"
      ]
     },
     "execution_count": 9,
     "metadata": {},
     "output_type": "execute_result"
    },
    {
     "data": {
      "image/png": "[encoded data removed]",
      "text/plain": [
       "<Figure size 432x288 with 1 Axes>"
      ]
     },
     "metadata": {
      "needs_background": "light"
     },
     "output_type": "display_data"
    }
   ],
   "source": [
    "plt.plot(list_of_my_prices, alpha=0.5)"
   ]
  },
  {
   "cell_type": "code",
   "execution_count": 12,
   "id": "76250884",
   "metadata": {},
   "outputs": [
    {
     "data": {
      "text/plain": [
       "[0.00023635012816416428]"
      ]
     },
     "execution_count": 12,
     "metadata": {},
     "output_type": "execute_result"
    }
   ],
   "source": [
    "min(list_of_my_prices)"
   ]
  },
  {
   "cell_type": "code",
   "execution_count": 10,
   "id": "8f693209",
   "metadata": {},
   "outputs": [
    {
     "data": {
      "text/plain": [
       "[<matplotlib.lines.Line2D at 0x1de1d9ef2b0>]"
      ]
     },
     "execution_count": 10,
     "metadata": {},
     "output_type": "execute_result"
    },
    {
     "data": {
      "image/png": "[encoded data removed]",
      "text/plain": [
       "<Figure size 432x288 with 1 Axes>"
      ]
     },
     "metadata": {
      "needs_background": "light"
     },
     "output_type": "display_data"
    }
   ],
   "source": [
    "plt.plot(list_of_valuations, alpha=0.5)"
   ]
  },
  {
   "cell_type": "code",
   "execution_count": null,
   "id": "4a4930cb",
   "metadata": {},
   "outputs": [],
   "source": []
  }
 ],
 "metadata": {
  "colab": {
   "include_colab_link": true,
   "name": "run_gym_headtohead_localcomputer.ipynb",
   "provenance": []
  },
  "kernelspec": {
   "display_name": "Python 3",
   "language": "python",
   "name": "python3"
  },
  "language_info": {
   "codemirror_mode": {
    "name": "ipython",
    "version": 3
   },
   "file_extension": ".py",
   "mimetype": "text/x-python",
   "name": "python",
   "nbconvert_exporter": "python",
   "pygments_lexer": "ipython3",
   "version": "3.7.0"
  },
  "varInspector": {
   "cols": {
    "lenName": 16,
    "lenType": 16,
    "lenVar": 40
   },
   "kernels_config": {
    "python": {
     "delete_cmd_postfix": "",
     "delete_cmd_prefix": "del ",
     "library": "var_list.py",
     "varRefreshCmd": "print(var_dic_list())"
    },
    "r": {
     "delete_cmd_postfix": ") ",
     "delete_cmd_prefix": "rm(",
     "library": "var_list.r",
     "varRefreshCmd": "cat(var_dic_list()) "
    }
   },
   "types_to_exclude": [
    "module",
    "function",
    "builtin_function_or_method",
    "instance",
    "_Feature"
   ],
   "window_display": false
  },
  "vscode": {
   "interpreter": {
    "hash": "3d597f4c481aa0f25dceb95d2a0067e73c0966dcbd003d741d821a7208527ecf"
   }
  }
 },
 "nbformat": 4,
 "nbformat_minor": 5
}
