{
 "cells": [
  {
   "cell_type": "markdown",
   "id": "f441de41",
   "metadata": {},
   "source": [
    "**At a high level, you will submit 2 things in Part 2:**<br>\n",
    "1. For a set of test customers in the file “test_user_info.csv”, you will calculate prices for each item for each customer so as to maximize expected revenue if you were a monopolist (i.e., as in HW3)<br>\n",
    "a) You will submit a CSV. The CSV should have four columns: (1) user_index, (2) price_item_0, (3) price_item_1, and (4) expected_revenue.<br>\n",
    "b) The file should be named `part2_static_prices_submission.csv`<br>\n",
    "2. Your updated agent code from Part 1, but now incorporating demand estimation and optimal pricing for 2 items."
   ]
  },
  {
   "cell_type": "code",
   "execution_count": 1,
   "id": "bdf81f07",
   "metadata": {},
   "outputs": [],
   "source": [
    "import pandas as pd\n",
    "import numpy as np\n",
    "import matplotlib.pyplot as plt\n",
    "import warnings\n",
    "warnings.filterwarnings('ignore')"
   ]
  },
  {
   "cell_type": "code",
   "execution_count": 2,
   "id": "b46ba22e",
   "metadata": {},
   "outputs": [],
   "source": [
    "train_pricing_decisions = pd.read_csv('train_prices_decisions.csv')\n",
    "test_user_info = pd.read_csv('test_user_info.csv')"
   ]
  },
  {
   "cell_type": "code",
   "execution_count": 3,
   "id": "24a3892b",
   "metadata": {},
   "outputs": [
    {
     "data": {
      "text/html": [
       "<div>\n",
       "<style scoped>\n",
       "    .dataframe tbody tr th:only-of-type {\n",
       "        vertical-align: middle;\n",
       "    }\n",
       "\n",
       "    .dataframe tbody tr th {\n",
       "        vertical-align: top;\n",
       "    }\n",
       "\n",
       "    .dataframe thead th {\n",
       "        text-align: right;\n",
       "    }\n",
       "</style>\n",
       "<table border=\"1\" class=\"dataframe\">\n",
       "  <thead>\n",
       "    <tr style=\"text-align: right;\">\n",
       "      <th></th>\n",
       "      <th>user_index</th>\n",
       "      <th>Covariate1</th>\n",
       "      <th>Covariate2</th>\n",
       "      <th>Covariate3</th>\n",
       "      <th>price_item_0</th>\n",
       "      <th>price_item_1</th>\n",
       "      <th>item_bought</th>\n",
       "    </tr>\n",
       "  </thead>\n",
       "  <tbody>\n",
       "    <tr>\n",
       "      <th>0</th>\n",
       "      <td>0</td>\n",
       "      <td>4.319065</td>\n",
       "      <td>4.917636</td>\n",
       "      <td>6.054873</td>\n",
       "      <td>1.659785</td>\n",
       "      <td>3.598304</td>\n",
       "      <td>0</td>\n",
       "    </tr>\n",
       "    <tr>\n",
       "      <th>1</th>\n",
       "      <td>1</td>\n",
       "      <td>6.375840</td>\n",
       "      <td>7.228608</td>\n",
       "      <td>1.324521</td>\n",
       "      <td>13.120469</td>\n",
       "      <td>2.578281</td>\n",
       "      <td>1</td>\n",
       "    </tr>\n",
       "    <tr>\n",
       "      <th>2</th>\n",
       "      <td>2</td>\n",
       "      <td>1.524010</td>\n",
       "      <td>0.393772</td>\n",
       "      <td>4.873626</td>\n",
       "      <td>27.145855</td>\n",
       "      <td>4.538328</td>\n",
       "      <td>-1</td>\n",
       "    </tr>\n",
       "    <tr>\n",
       "      <th>3</th>\n",
       "      <td>3</td>\n",
       "      <td>1.243759</td>\n",
       "      <td>1.651083</td>\n",
       "      <td>2.268083</td>\n",
       "      <td>5.275166</td>\n",
       "      <td>14.818790</td>\n",
       "      <td>0</td>\n",
       "    </tr>\n",
       "    <tr>\n",
       "      <th>4</th>\n",
       "      <td>4</td>\n",
       "      <td>2.510326</td>\n",
       "      <td>8.265984</td>\n",
       "      <td>4.602699</td>\n",
       "      <td>12.681638</td>\n",
       "      <td>6.809336</td>\n",
       "      <td>0</td>\n",
       "    </tr>\n",
       "  </tbody>\n",
       "</table>\n",
       "</div>"
      ],
      "text/plain": [
       "   user_index  Covariate1  Covariate2  Covariate3  price_item_0  price_item_1  \\\n",
       "0           0    4.319065    4.917636    6.054873      1.659785      3.598304   \n",
       "1           1    6.375840    7.228608    1.324521     13.120469      2.578281   \n",
       "2           2    1.524010    0.393772    4.873626     27.145855      4.538328   \n",
       "3           3    1.243759    1.651083    2.268083      5.275166     14.818790   \n",
       "4           4    2.510326    8.265984    4.602699     12.681638      6.809336   \n",
       "\n",
       "   item_bought  \n",
       "0            0  \n",
       "1            1  \n",
       "2           -1  \n",
       "3            0  \n",
       "4            0  "
      ]
     },
     "execution_count": 3,
     "metadata": {},
     "output_type": "execute_result"
    }
   ],
   "source": [
    "train_pricing_decisions.head()"
   ]
  },
  {
   "cell_type": "code",
   "execution_count": 4,
   "id": "0ab1bd06",
   "metadata": {},
   "outputs": [],
   "source": [
    "from sklearn.linear_model import LogisticRegression\n",
    "from sklearn.metrics import confusion_matrix\n",
    "from sklearn.metrics import classification_report, precision_recall_fscore_support"
   ]
  },
  {
   "cell_type": "code",
   "execution_count": 5,
   "id": "d9ee2d5e",
   "metadata": {},
   "outputs": [],
   "source": [
    "def calc_confusion_matrix(pred_label, test_label):\n",
    "    true_label = test_label\n",
    "    predicted_label = pred_label\n",
    "    print(\"Confusion Matrix :\")\n",
    "    print(confusion_matrix(true_label, predicted_label))\n",
    "    print(\"Classification Report :\")\n",
    "    print(classification_report(true_label, predicted_label, digits=4))\n",
    "    print('Weighted FScore: \\n ', precision_recall_fscore_support(true_label, predicted_label, average='weighted'))"
   ]
  },
  {
   "cell_type": "code",
   "execution_count": 6,
   "id": "ff643254",
   "metadata": {},
   "outputs": [],
   "source": [
    "def fit_logistic_regression_demand_with_covariates(df):\n",
    "    # training\n",
    "    model = LogisticRegression(random_state=1,solver='liblinear')\n",
    "    model.fit(df[['Covariate1','Covariate2','Covariate3','price_item_0','price_item_1']].values, df['item_bought'].values)\n",
    "    return model"
   ]
  },
  {
   "cell_type": "code",
   "execution_count": 7,
   "id": "6f60e9d6",
   "metadata": {},
   "outputs": [],
   "source": [
    "def get_prediction_logistic(fitted_model, price, covariates):\n",
    "    x = np.hstack((covariates, price))\n",
    "    return fitted_model.predict_proba(x)"
   ]
  },
  {
   "cell_type": "code",
   "execution_count": 8,
   "id": "3c9420d7",
   "metadata": {},
   "outputs": [],
   "source": [
    "# LR Model\n",
    "lr_model = fit_logistic_regression_demand_with_covariates(train_pricing_decisions)"
   ]
  },
  {
   "cell_type": "code",
   "execution_count": 9,
   "id": "fee832b1",
   "metadata": {},
   "outputs": [
    {
     "name": "stdout",
     "output_type": "stream",
     "text": [
      "Confusion Matrix :\n",
      "[[7817  794  750]\n",
      " [ 581 9240  975]\n",
      " [ 788  856 8199]]\n",
      "Classification Report :\n",
      "              precision    recall  f1-score   support\n",
      "\n",
      "           0     0.8510    0.8351    0.8429      9361\n",
      "           1     0.8485    0.8559    0.8522     10796\n",
      "           2     0.8262    0.8330    0.8296      9843\n",
      "\n",
      "    accuracy                         0.8419     30000\n",
      "   macro avg     0.8419    0.8413    0.8416     30000\n",
      "weighted avg     0.8419    0.8419    0.8419     30000\n",
      "\n",
      "Weighted FScore: \n",
      "  (0.841941382665533, 0.8418666666666667, 0.8418702735316798, None)\n"
     ]
    }
   ],
   "source": [
    "# Confusion Matrix of the Training Set\n",
    "price = train_pricing_decisions[['price_item_0','price_item_1']].values\n",
    "covariates = train_pricing_decisions[['Covariate1','Covariate2','Covariate3']].values\n",
    "train_pred = get_prediction_logistic(lr_model, price, covariates)\n",
    "train_pred = np.argmax(train_pred, axis=1)\n",
    "calc_confusion_matrix(train_pred, train_pricing_decisions['item_bought'].values+1)"
   ]
  },
  {
   "cell_type": "code",
   "execution_count": 34,
   "id": "1f0c4b31",
   "metadata": {},
   "outputs": [],
   "source": [
    "# Revenue = price(A) * demand(A) + price(B) * demand(B)\n",
    "def get_revenue_maximizing_price_and_revenue(price_options, demand_predictions):\n",
    "    price = [0,0]\n",
    "    revenue = 0\n",
    "    tmp = 0\n",
    "    for i in range(len(price_options)):\n",
    "        tmp = price_options[i][0] * demand_predictions[i][1] + price_options[i][1] * demand_predictions[i][2]\n",
    "        if tmp > revenue:\n",
    "            price[0] = price_options[i][0]\n",
    "            price[1] = price_options[i][1]\n",
    "            revenue = tmp\n",
    "    return price, revenue"
   ]
  },
  {
   "cell_type": "code",
   "execution_count": 27,
   "id": "caf73f69",
   "metadata": {},
   "outputs": [],
   "source": [
    "# Demand curves of price_item_0 and price_item_1\n",
    "price_all = train_pricing_decisions[['price_item_0','price_item_1']].values\n",
    "covariates_all = train_pricing_decisions[['Covariate1','Covariate2','Covariate3']].values\n",
    "train_pred_all = get_prediction_logistic(lr_model, price_all, covariates_all)\n",
    "\n",
    "price_item_0 = train_pricing_decisions['price_item_0'].values\n",
    "price_item_1 = train_pricing_decisions['price_item_1'].values\n",
    "demand_item_0 = train_pred_all[:,1]\n",
    "demand_item_1 = train_pred_all[:,2]"
   ]
  },
  {
   "cell_type": "code",
   "execution_count": 35,
   "id": "47216708",
   "metadata": {},
   "outputs": [
    {
     "data": {
      "image/png": "[encoded data removed]",
      "text/plain": [
       "<Figure size 720x432 with 1 Axes>"
      ]
     },
     "metadata": {
      "needs_background": "light"
     },
     "output_type": "display_data"
    }
   ],
   "source": [
    "plt.figure(figsize=(10, 6))\n",
    "plt.plot(price_item_0, demand_item_0,'.')\n",
    "plt.title('item_0')\n",
    "plt.xlabel('Price')\n",
    "plt.ylabel('Demand')\n",
    "plt.show()"
   ]
  },
  {
   "cell_type": "code",
   "execution_count": 36,
   "id": "d131ec9a",
   "metadata": {},
   "outputs": [
    {
     "data": {
      "image/png": "[encoded data removed]",
      "text/plain": [
       "<Figure size 720x432 with 1 Axes>"
      ]
     },
     "metadata": {
      "needs_background": "light"
     },
     "output_type": "display_data"
    }
   ],
   "source": [
    "plt.figure(figsize=(10, 6))\n",
    "plt.plot(price_item_1, demand_item_1,'.')\n",
    "plt.title('item_1')\n",
    "plt.xlabel('Price')\n",
    "plt.ylabel('Demand')\n",
    "plt.show()"
   ]
  },
  {
   "cell_type": "code",
   "execution_count": 31,
   "id": "3f90bac3",
   "metadata": {},
   "outputs": [
    {
     "data": {
      "text/plain": [
       "[<matplotlib.lines.Line2D at 0x26182366dd8>]"
      ]
     },
     "execution_count": 31,
     "metadata": {},
     "output_type": "execute_result"
    },
    {
     "data": {
      "image/png": "[encoded data removed]",
      "text/plain": [
       "<Figure size 360x360 with 1 Axes>"
      ]
     },
     "metadata": {
      "needs_background": "light"
     },
     "output_type": "display_data"
    }
   ],
   "source": [
    "# Build a price set (sample prices from 0.1 to 30 in intervals of 0.1)\n",
    "priceSet = []\n",
    "x1 = np.arange(0.1, 30, 0.1)\n",
    "x2 = np.arange(0.1, 30, 0.1)\n",
    "for i in range(len(x1)):\n",
    "    for j in range(len(x2)):\n",
    "        priceSet.append([x1[i],x2[j]])\n",
    "plt.figure(figsize=(5, 5))\n",
    "plt.plot(np.array(priceSet)[:,0],np.array(priceSet)[:,1], \".\")"
   ]
  },
  {
   "cell_type": "code",
   "execution_count": 35,
   "id": "818a9975",
   "metadata": {},
   "outputs": [
    {
     "name": "stdout",
     "output_type": "stream",
     "text": [
      "[10.9, 8.7]\n",
      "8.240699793654883\n"
     ]
    }
   ],
   "source": [
    "covariates = np.array([[4.319065, 4.917636, 6.054873]])\n",
    "covariates = np.tile(covariates, (len(priceSet),1))\n",
    "demand_predictions = get_prediction_logistic(lr_model, priceSet, covariates)\n",
    "opt_price, opt_revenue = get_revenue_maximizing_price_and_revenue(priceSet, demand_predictions)\n",
    "print(opt_price)\n",
    "print(opt_revenue)"
   ]
  },
  {
   "cell_type": "code",
   "execution_count": 39,
   "id": "ad64f81f",
   "metadata": {},
   "outputs": [],
   "source": [
    "# test_user_info\n",
    "user_index_list = test_user_info['user_index'].values\n",
    "price_item_0_list = []\n",
    "price_item_1_list = []\n",
    "expected_revenue_list = []\n",
    "for i in range(len(test_user_info)):\n",
    "    covariates = test_user_info.iloc[i][['Covariate1','Covariate2','Covariate3']].values\n",
    "    covariates = np.tile(covariates, (len(priceSet),1))\n",
    "    demand_predictions = get_prediction_logistic(lr_model, priceSet, covariates)\n",
    "    opt_price, opt_revenue = get_revenue_maximizing_price_and_revenue(priceSet, demand_predictions)\n",
    "    price_item_0_list.append(opt_price[0])\n",
    "    price_item_1_list.append(opt_price[1])\n",
    "    expected_revenue_list.append(opt_revenue)"
   ]
  },
  {
   "cell_type": "code",
   "execution_count": 42,
   "id": "11f37fc0",
   "metadata": {},
   "outputs": [
    {
     "data": {
      "text/html": [
       "<div>\n",
       "<style scoped>\n",
       "    .dataframe tbody tr th:only-of-type {\n",
       "        vertical-align: middle;\n",
       "    }\n",
       "\n",
       "    .dataframe tbody tr th {\n",
       "        vertical-align: top;\n",
       "    }\n",
       "\n",
       "    .dataframe thead th {\n",
       "        text-align: right;\n",
       "    }\n",
       "</style>\n",
       "<table border=\"1\" class=\"dataframe\">\n",
       "  <thead>\n",
       "    <tr style=\"text-align: right;\">\n",
       "      <th></th>\n",
       "      <th>user_index</th>\n",
       "      <th>price_item_0</th>\n",
       "      <th>price_item_1</th>\n",
       "      <th>expected_revenue</th>\n",
       "    </tr>\n",
       "  </thead>\n",
       "  <tbody>\n",
       "    <tr>\n",
       "      <th>0</th>\n",
       "      <td>30000</td>\n",
       "      <td>14.2</td>\n",
       "      <td>14.2</td>\n",
       "      <td>12.115873</td>\n",
       "    </tr>\n",
       "    <tr>\n",
       "      <th>1</th>\n",
       "      <td>30001</td>\n",
       "      <td>12.9</td>\n",
       "      <td>13.2</td>\n",
       "      <td>10.974568</td>\n",
       "    </tr>\n",
       "    <tr>\n",
       "      <th>2</th>\n",
       "      <td>30002</td>\n",
       "      <td>8.2</td>\n",
       "      <td>9.5</td>\n",
       "      <td>6.583577</td>\n",
       "    </tr>\n",
       "    <tr>\n",
       "      <th>3</th>\n",
       "      <td>30003</td>\n",
       "      <td>17.4</td>\n",
       "      <td>18.3</td>\n",
       "      <td>15.918515</td>\n",
       "    </tr>\n",
       "    <tr>\n",
       "      <th>4</th>\n",
       "      <td>30004</td>\n",
       "      <td>8.0</td>\n",
       "      <td>9.0</td>\n",
       "      <td>6.156433</td>\n",
       "    </tr>\n",
       "  </tbody>\n",
       "</table>\n",
       "</div>"
      ],
      "text/plain": [
       "   user_index  price_item_0  price_item_1  expected_revenue\n",
       "0       30000          14.2          14.2         12.115873\n",
       "1       30001          12.9          13.2         10.974568\n",
       "2       30002           8.2           9.5          6.583577\n",
       "3       30003          17.4          18.3         15.918515\n",
       "4       30004           8.0           9.0          6.156433"
      ]
     },
     "execution_count": 42,
     "metadata": {},
     "output_type": "execute_result"
    }
   ],
   "source": [
    "test_result_df = pd.DataFrame({'user_index':pd.Series(user_index_list),'price_item_0':pd.Series(price_item_0_list),\n",
    "                  'price_item_1':pd.Series(price_item_1_list),'expected_revenue':pd.Series(expected_revenue_list)})\n",
    "test_result_df.head()"
   ]
  },
  {
   "cell_type": "code",
   "execution_count": 43,
   "id": "6b3bf3f9",
   "metadata": {},
   "outputs": [],
   "source": [
    "test_result_df.to_csv( 'part2_static_prices_submission.csv',index=None)"
   ]
  },
  {
   "cell_type": "code",
   "execution_count": null,
   "id": "82f67360",
   "metadata": {},
   "outputs": [],
   "source": []
  },
  {
   "cell_type": "code",
   "execution_count": null,
   "id": "27d11722",
   "metadata": {},
   "outputs": [],
   "source": []
  },
  {
   "cell_type": "code",
   "execution_count": null,
   "id": "5d1aa389",
   "metadata": {},
   "outputs": [],
   "source": []
  }
 ],
 "metadata": {
  "kernelspec": {
   "display_name": "Python [conda env:root] *",
   "language": "python",
   "name": "conda-root-py"
  },
  "language_info": {
   "codemirror_mode": {
    "name": "ipython",
    "version": 3
   },
   "file_extension": ".py",
   "mimetype": "text/x-python",
   "name": "python",
   "nbconvert_exporter": "python",
   "pygments_lexer": "ipython3",
   "version": "3.7.0"
  }
 },
 "nbformat": 4,
 "nbformat_minor": 5
}
