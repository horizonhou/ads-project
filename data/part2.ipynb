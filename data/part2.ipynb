{
 "cells": [
  {
   "cell_type": "code",
   "execution_count": 23,
   "id": "bdf81f07",
   "metadata": {},
   "outputs": [],
   "source": [
    "import pandas as pd\n",
    "import numpy as np\n",
    "import matplotlib.pyplot as plt\n",
    "import warnings\n",
    "warnings.filterwarnings('ignore')"
   ]
  },
  {
   "cell_type": "code",
   "execution_count": 2,
   "id": "b46ba22e",
   "metadata": {},
   "outputs": [],
   "source": [
    "train_pricing_decisions = pd.read_csv('train_prices_decisions.csv')\n",
    "test_user_info = pd.read_csv('test_user_info.csv')"
   ]
  },
  {
   "cell_type": "code",
   "execution_count": 3,
   "id": "24a3892b",
   "metadata": {},
   "outputs": [
    {
     "data": {
      "text/html": [
       "<div>\n",
       "<style scoped>\n",
       "    .dataframe tbody tr th:only-of-type {\n",
       "        vertical-align: middle;\n",
       "    }\n",
       "\n",
       "    .dataframe tbody tr th {\n",
       "        vertical-align: top;\n",
       "    }\n",
       "\n",
       "    .dataframe thead th {\n",
       "        text-align: right;\n",
       "    }\n",
       "</style>\n",
       "<table border=\"1\" class=\"dataframe\">\n",
       "  <thead>\n",
       "    <tr style=\"text-align: right;\">\n",
       "      <th></th>\n",
       "      <th>user_index</th>\n",
       "      <th>Covariate1</th>\n",
       "      <th>Covariate2</th>\n",
       "      <th>Covariate3</th>\n",
       "      <th>price_item_0</th>\n",
       "      <th>price_item_1</th>\n",
       "      <th>item_bought</th>\n",
       "    </tr>\n",
       "  </thead>\n",
       "  <tbody>\n",
       "    <tr>\n",
       "      <th>0</th>\n",
       "      <td>0</td>\n",
       "      <td>4.319065</td>\n",
       "      <td>4.917636</td>\n",
       "      <td>6.054873</td>\n",
       "      <td>1.659785</td>\n",
       "      <td>3.598304</td>\n",
       "      <td>0</td>\n",
       "    </tr>\n",
       "    <tr>\n",
       "      <th>1</th>\n",
       "      <td>1</td>\n",
       "      <td>6.375840</td>\n",
       "      <td>7.228608</td>\n",
       "      <td>1.324521</td>\n",
       "      <td>13.120469</td>\n",
       "      <td>2.578281</td>\n",
       "      <td>1</td>\n",
       "    </tr>\n",
       "    <tr>\n",
       "      <th>2</th>\n",
       "      <td>2</td>\n",
       "      <td>1.524010</td>\n",
       "      <td>0.393772</td>\n",
       "      <td>4.873626</td>\n",
       "      <td>27.145855</td>\n",
       "      <td>4.538328</td>\n",
       "      <td>-1</td>\n",
       "    </tr>\n",
       "    <tr>\n",
       "      <th>3</th>\n",
       "      <td>3</td>\n",
       "      <td>1.243759</td>\n",
       "      <td>1.651083</td>\n",
       "      <td>2.268083</td>\n",
       "      <td>5.275166</td>\n",
       "      <td>14.818790</td>\n",
       "      <td>0</td>\n",
       "    </tr>\n",
       "    <tr>\n",
       "      <th>4</th>\n",
       "      <td>4</td>\n",
       "      <td>2.510326</td>\n",
       "      <td>8.265984</td>\n",
       "      <td>4.602699</td>\n",
       "      <td>12.681638</td>\n",
       "      <td>6.809336</td>\n",
       "      <td>0</td>\n",
       "    </tr>\n",
       "  </tbody>\n",
       "</table>\n",
       "</div>"
      ],
      "text/plain": [
       "   user_index  Covariate1  Covariate2  Covariate3  price_item_0  price_item_1  \\\n",
       "0           0    4.319065    4.917636    6.054873      1.659785      3.598304   \n",
       "1           1    6.375840    7.228608    1.324521     13.120469      2.578281   \n",
       "2           2    1.524010    0.393772    4.873626     27.145855      4.538328   \n",
       "3           3    1.243759    1.651083    2.268083      5.275166     14.818790   \n",
       "4           4    2.510326    8.265984    4.602699     12.681638      6.809336   \n",
       "\n",
       "   item_bought  \n",
       "0            0  \n",
       "1            1  \n",
       "2           -1  \n",
       "3            0  \n",
       "4            0  "
      ]
     },
     "execution_count": 3,
     "metadata": {},
     "output_type": "execute_result"
    }
   ],
   "source": [
    "train_pricing_decisions.head()"
   ]
  },
  {
   "cell_type": "code",
   "execution_count": 42,
   "id": "0ab1bd06",
   "metadata": {},
   "outputs": [],
   "source": [
    "from sklearn.linear_model import LogisticRegression\n",
    "from sklearn.metrics import confusion_matrix\n",
    "from sklearn.metrics import classification_report, precision_recall_fscore_support"
   ]
  },
  {
   "cell_type": "code",
   "execution_count": 43,
   "id": "d9ee2d5e",
   "metadata": {},
   "outputs": [],
   "source": [
    "def calc_confusion_matrix(pred_label, test_label):\n",
    "    true_label = test_label\n",
    "    predicted_label = pred_label\n",
    "    print(\"Confusion Matrix :\")\n",
    "    print(confusion_matrix(true_label, predicted_label))\n",
    "    print(\"Classification Report :\")\n",
    "    print(classification_report(true_label, predicted_label, digits=4))\n",
    "    print('Weighted FScore: \\n ', precision_recall_fscore_support(true_label, predicted_label, average='weighted'))"
   ]
  },
  {
   "cell_type": "code",
   "execution_count": 17,
   "id": "ff643254",
   "metadata": {},
   "outputs": [],
   "source": [
    "def fit_logistic_regression_demand_with_covariates(df):\n",
    "    # training\n",
    "    model = LogisticRegression(random_state=1,solver='liblinear')\n",
    "    model.fit(df[['Covariate1','Covariate2','Covariate3','price_item_0','price_item_1']].values, df['item_bought'].values)\n",
    "    return model"
   ]
  },
  {
   "cell_type": "code",
   "execution_count": 40,
   "id": "6f60e9d6",
   "metadata": {},
   "outputs": [],
   "source": [
    "def get_prediction_logistic(fitted_model, price, covariates):\n",
    "    x = np.hstack((covariates, price))\n",
    "    return fitted_model.predict_proba(x)"
   ]
  },
  {
   "cell_type": "code",
   "execution_count": 41,
   "id": "3c9420d7",
   "metadata": {},
   "outputs": [],
   "source": [
    "# LR Model\n",
    "lr_model = fit_logistic_regression_demand_with_covariates(train_pricing_decisions)"
   ]
  },
  {
   "cell_type": "code",
   "execution_count": 48,
   "id": "fee832b1",
   "metadata": {},
   "outputs": [
    {
     "name": "stdout",
     "output_type": "stream",
     "text": [
      "Confusion Matrix :\n",
      "[[7817  794  750]\n",
      " [ 581 9240  975]\n",
      " [ 788  856 8199]]\n",
      "Classification Report :\n",
      "              precision    recall  f1-score   support\n",
      "\n",
      "           0     0.8510    0.8351    0.8429      9361\n",
      "           1     0.8485    0.8559    0.8522     10796\n",
      "           2     0.8262    0.8330    0.8296      9843\n",
      "\n",
      "    accuracy                         0.8419     30000\n",
      "   macro avg     0.8419    0.8413    0.8416     30000\n",
      "weighted avg     0.8419    0.8419    0.8419     30000\n",
      "\n",
      "Weighted FScore: \n",
      "  (0.841941382665533, 0.8418666666666667, 0.8418702735316798, None)\n"
     ]
    }
   ],
   "source": [
    "# Confusion Matrix of the Training Set\n",
    "price = train_pricing_decisions[['price_item_0','price_item_1']].values\n",
    "covariates = train_pricing_decisions[['Covariate1','Covariate2','Covariate3']].values\n",
    "train_pred = get_prediction_logistic(lr_model, price, covariates)\n",
    "train_pred = np.argmax(train_pred, axis=1)\n",
    "calc_confusion_matrix(train_pred, train_pricing_decisions['item_bought'].values+1)"
   ]
  },
  {
   "cell_type": "code",
   "execution_count": 72,
   "id": "1f0c4b31",
   "metadata": {},
   "outputs": [],
   "source": [
    "# Revenue = price(A) * demand(A) + price(B) * demand(B)\n",
    "def get_revenue_maximizing_price_and_revenue(price_options, demand_predictions):\n",
    "    price = [0,0]\n",
    "    revenue = 0\n",
    "    tmp = 0\n",
    "    for i in range(len(price_options)):\n",
    "        tmp = price_options[i][0] * demand_predictions[i][1] + price_options[i][1] * demand_predictions[i][2]\n",
    "        if tmp > revenue:\n",
    "            price[0] = price_options[i][0]\n",
    "            price[1] = price_options[i][1]\n",
    "            revenue = tmp\n",
    "    return price, revenue"
   ]
  },
  {
   "cell_type": "code",
   "execution_count": 91,
   "id": "3f90bac3",
   "metadata": {},
   "outputs": [],
   "source": [
    "# Build a price set\n",
    "priceSet = np.array([[1,2],[3,4],[5,6],[7,8],[9,10],[100,200]])\n",
    "covariates = np.array([[4.319065, 4.917636, 6.054873]])\n",
    "covariates = np.tile(covariates, (len(priceSet),1))\n",
    "demand_predictions = get_prediction_logistic(lr_model, priceSet, covariates)"
   ]
  },
  {
   "cell_type": "code",
   "execution_count": 92,
   "id": "eae0671c",
   "metadata": {},
   "outputs": [
    {
     "data": {
      "text/plain": [
       "array([[1.84138339e-02, 8.36013419e-01, 1.45572747e-01],\n",
       "       [3.10068700e-02, 8.73914538e-01, 9.50785922e-02],\n",
       "       [5.20893834e-02, 8.87488148e-01, 6.04224689e-02],\n",
       "       [8.85986763e-02, 8.72894442e-01, 3.85068815e-02],\n",
       "       [1.53811146e-01, 8.21067701e-01, 2.51211532e-02],\n",
       "       [9.99999997e-01, 2.53495879e-09, 2.51774495e-31]])"
      ]
     },
     "execution_count": 92,
     "metadata": {},
     "output_type": "execute_result"
    }
   ],
   "source": [
    "demand_predictions"
   ]
  },
  {
   "cell_type": "code",
   "execution_count": 93,
   "id": "a65ca1e6",
   "metadata": {},
   "outputs": [],
   "source": [
    "opt_price, opt_revenue = get_revenue_maximizing_price_and_revenue(priceSet, demand_predictions)"
   ]
  },
  {
   "cell_type": "code",
   "execution_count": 94,
   "id": "16d5194c",
   "metadata": {},
   "outputs": [
    {
     "name": "stdout",
     "output_type": "stream",
     "text": [
      "[9, 10]\n",
      "7.6408208388106615\n"
     ]
    }
   ],
   "source": [
    "print(opt_price)\n",
    "print(opt_revenue)"
   ]
  },
  {
   "cell_type": "code",
   "execution_count": null,
   "id": "308da1c0",
   "metadata": {},
   "outputs": [],
   "source": []
  },
  {
   "cell_type": "code",
   "execution_count": null,
   "id": "caf73f69",
   "metadata": {},
   "outputs": [],
   "source": []
  },
  {
   "cell_type": "code",
   "execution_count": null,
   "id": "818a9975",
   "metadata": {},
   "outputs": [],
   "source": []
  }
 ],
 "metadata": {
  "kernelspec": {
   "display_name": "Python [conda env:root] *",
   "language": "python",
   "name": "conda-root-py"
  },
  "language_info": {
   "codemirror_mode": {
    "name": "ipython",
    "version": 3
   },
   "file_extension": ".py",
   "mimetype": "text/x-python",
   "name": "python",
   "nbconvert_exporter": "python",
   "pygments_lexer": "ipython3",
   "version": "3.7.0"
  }
 },
 "nbformat": 4,
 "nbformat_minor": 5
}
